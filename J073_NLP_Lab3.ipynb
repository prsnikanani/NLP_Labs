{
 "cells": [
  {
   "cell_type": "code",
   "execution_count": 1,
   "metadata": {},
   "outputs": [],
   "source": [
    "import re\n",
    "import pandas as pd"
   ]
  },
  {
   "cell_type": "code",
   "execution_count": 2,
   "metadata": {},
   "outputs": [],
   "source": [
    "df = pd.read_csv(\"date_parser_testcases.csv\")"
   ]
  },
  {
   "cell_type": "code",
   "execution_count": 3,
   "metadata": {},
   "outputs": [
    {
     "data": {
      "text/html": [
       "<div>\n",
       "<style scoped>\n",
       "    .dataframe tbody tr th:only-of-type {\n",
       "        vertical-align: middle;\n",
       "    }\n",
       "\n",
       "    .dataframe tbody tr th {\n",
       "        vertical-align: top;\n",
       "    }\n",
       "\n",
       "    .dataframe thead th {\n",
       "        text-align: right;\n",
       "    }\n",
       "</style>\n",
       "<table border=\"1\" class=\"dataframe\">\n",
       "  <thead>\n",
       "    <tr style=\"text-align: right;\">\n",
       "      <th></th>\n",
       "      <th>Input</th>\n",
       "      <th>Expected Output</th>\n",
       "    </tr>\n",
       "  </thead>\n",
       "  <tbody>\n",
       "    <tr>\n",
       "      <th>0</th>\n",
       "      <td>The event will take place on March 5, 2023.</td>\n",
       "      <td>05/03/2023</td>\n",
       "    </tr>\n",
       "    <tr>\n",
       "      <th>1</th>\n",
       "      <td>Her birthday is on 07/08/1990.</td>\n",
       "      <td>07/08/1990</td>\n",
       "    </tr>\n",
       "    <tr>\n",
       "      <th>2</th>\n",
       "      <td>The deadline is 2022-12-31.</td>\n",
       "      <td>31/12/2022</td>\n",
       "    </tr>\n",
       "    <tr>\n",
       "      <th>3</th>\n",
       "      <td>We met on 1st of January 2000.</td>\n",
       "      <td>01/01/2000</td>\n",
       "    </tr>\n",
       "    <tr>\n",
       "      <th>4</th>\n",
       "      <td>The concert is scheduled for 15th September, 2...</td>\n",
       "      <td>15/09/2021</td>\n",
       "    </tr>\n",
       "    <tr>\n",
       "      <th>...</th>\n",
       "      <td>...</td>\n",
       "      <td>...</td>\n",
       "    </tr>\n",
       "    <tr>\n",
       "      <th>95</th>\n",
       "      <td>We celebrate Independence Day on 2023-07-04, a...</td>\n",
       "      <td>04/07/2023</td>\n",
       "    </tr>\n",
       "    <tr>\n",
       "      <th>96</th>\n",
       "      <td>The final date for submission is 30th November...</td>\n",
       "      <td>30/11/2022</td>\n",
       "    </tr>\n",
       "    <tr>\n",
       "      <th>97</th>\n",
       "      <td>The annual conference is on 15th October 2023,...</td>\n",
       "      <td>15/10/2023</td>\n",
       "    </tr>\n",
       "    <tr>\n",
       "      <th>98</th>\n",
       "      <td>His birthdate, noted as 1990-05-20, is in the ...</td>\n",
       "      <td>20/05/1990</td>\n",
       "    </tr>\n",
       "    <tr>\n",
       "      <th>99</th>\n",
       "      <td>The festival will be celebrated on 12th August...</td>\n",
       "      <td>12/08/2024</td>\n",
       "    </tr>\n",
       "  </tbody>\n",
       "</table>\n",
       "<p>100 rows × 2 columns</p>\n",
       "</div>"
      ],
      "text/plain": [
       "                                                Input Expected Output\n",
       "0         The event will take place on March 5, 2023.      05/03/2023\n",
       "1                      Her birthday is on 07/08/1990.      07/08/1990\n",
       "2                         The deadline is 2022-12-31.      31/12/2022\n",
       "3                      We met on 1st of January 2000.      01/01/2000\n",
       "4   The concert is scheduled for 15th September, 2...      15/09/2021\n",
       "..                                                ...             ...\n",
       "95  We celebrate Independence Day on 2023-07-04, a...      04/07/2023\n",
       "96  The final date for submission is 30th November...      30/11/2022\n",
       "97  The annual conference is on 15th October 2023,...      15/10/2023\n",
       "98  His birthdate, noted as 1990-05-20, is in the ...      20/05/1990\n",
       "99  The festival will be celebrated on 12th August...      12/08/2024\n",
       "\n",
       "[100 rows x 2 columns]"
      ]
     },
     "execution_count": 3,
     "metadata": {},
     "output_type": "execute_result"
    }
   ],
   "source": [
    "df"
   ]
  },
  {
   "cell_type": "code",
   "execution_count": 4,
   "metadata": {},
   "outputs": [],
   "source": [
    "import re\n",
    "import pandas as pd\n",
    "from datetime import datetime\n",
    "\n",
    "\n",
    "df = pd.read_csv(\"date_parser_testcases.csv\")\n",
    "\n",
    "\n",
    "def month_name_to_number(month):\n",
    "    months = {\n",
    "        \"jan\": \"01\", \"january\": \"01\",\n",
    "        \"feb\": \"02\", \"february\": \"02\",\n",
    "        \"mar\": \"03\", \"march\": \"03\",\n",
    "        \"apr\": \"04\", \"april\": \"04\",\n",
    "        \"may\": \"05\",\n",
    "        \"jun\": \"06\", \"june\": \"06\",\n",
    "        \"jul\": \"07\", \"july\": \"07\",\n",
    "        \"aug\": \"08\", \"august\": \"08\",\n",
    "        \"sep\": \"09\", \"september\": \"09\",\n",
    "        \"oct\": \"10\", \"october\": \"10\",\n",
    "        \"nov\": \"11\", \"november\": \"11\",\n",
    "        \"dec\": \"12\", \"december\": \"12\"\n",
    "    }\n",
    "    return months.get(month.lower(), None)\n",
    "\n",
    "def ensure_full_year(year):\n",
    "    if len(year) == 2:\n",
    "        if int(year) <= int(str(pd.Timestamp.now().year)[-2:]):\n",
    "            return \"20\" + year  \n",
    "        else:\n",
    "            return \"19\" + year \n",
    "    return year\n"
   ]
  },
  {
   "cell_type": "code",
   "execution_count": 5,
   "metadata": {},
   "outputs": [
    {
     "name": "stdout",
     "output_type": "stream",
     "text": [
      "                                                Input Expected Output  \\\n",
      "0         The event will take place on March 5, 2023.      05/03/2023   \n",
      "1                      Her birthday is on 07/08/1990.      07/08/1990   \n",
      "2                         The deadline is 2022-12-31.      31/12/2022   \n",
      "3                      We met on 1st of January 2000.      01/01/2000   \n",
      "4   The concert is scheduled for 15th September, 2...      15/09/2021   \n",
      "..                                                ...             ...   \n",
      "95  We celebrate Independence Day on 2023-07-04, a...      04/07/2023   \n",
      "96  The final date for submission is 30th November...      30/11/2022   \n",
      "97  The annual conference is on 15th October 2023,...      15/10/2023   \n",
      "98  His birthdate, noted as 1990-05-20, is in the ...      20/05/1990   \n",
      "99  The festival will be celebrated on 12th August...      12/08/2024   \n",
      "\n",
      "   parsed_date  \n",
      "0   05/03/2023  \n",
      "1   08/07/1990  \n",
      "2   31/12/2022  \n",
      "3   01/01/2000  \n",
      "4   15/09/2021  \n",
      "..         ...  \n",
      "95  04/07/2023  \n",
      "96  30/11/2022  \n",
      "97  15/10/2023  \n",
      "98  20/05/1990  \n",
      "99  12/08/2024  \n",
      "\n",
      "[100 rows x 3 columns]\n"
     ]
    }
   ],
   "source": [
    "def parse_date(text):\n",
    "    \n",
    "    patterns = [\n",
    "        \n",
    "        r\"(\\d{1,2})(st|nd|rd|th)?\\s+of\\s+([A-Za-z]+)\\s*,?\\s*(\\d{4})\",\n",
    "        r\"(\\d{1,2})(st|nd|rd|th)?\\s+of\\s+([A-Za-z]+)\\s+(\\d{4})\",\n",
    "        r\"(\\d{1,2})(st|nd|rd|th)?\\s+([A-Za-z]+)\\s*,?\\s*(\\d{4})\",  # e.g., 21st June 2024\n",
    "        r\"([A-Za-z]+)\\s+(\\d{1,2})(st|nd|rd|th)?\\s*,?\\s*(\\d{4})\",  # e.g., June 21st 2024\n",
    "\n",
    "        \n",
    "        r\"(\\d{1,2})/(\\d{1,2})/(\\d{4})\",  # e.g., 25/12/2023\n",
    "        r\"(\\d{1,2})-(\\d{1,2})-(\\d{4})\",  # e.g., 25-12-2023\n",
    "        r\"(\\d{1,2})\\.(\\d{1,2})\\.(\\d{4})\",  # e.g., 25.12.2023\n",
    "        r\"(\\d{4})/(\\d{1,2})/(\\d{1,2})\",  # e.g., 2023/12/25 (Year first)\n",
    "        r\"(\\d{4})-(\\d{1,2})-(\\d{1,2})\",  # e.g., 2023-12-25 (Year first)\n",
    "        r\"(\\d{1,2})/(\\d{1,2})/(\\d{2})\",  # e.g., 25/12/19\n",
    "\n",
    "        r\"(\\d{4})\\.(\\d{1,2})\\.(\\d{1,2})\",\n",
    "        r\"(\\d{4})/(\\d{1,2})/(\\d{1,2})\",  # e.g., 2023/12/25\n",
    "        r\"(\\d{4})-(\\d{1,2})-(\\d{1,2})\",\n",
    "        \n",
    "        \n",
    "        r\"([A-Za-z]+)\\s+(\\d{1,2})(st|nd|rd|th)?,?\\s+(\\d{4})\",  # e.g., June 21, 2024\n",
    "        r\"(\\d{4})\\s+([A-Za-z]+)\\s+(\\d{1,2})(st|nd|rd|th)?\",  # e.g., 2024 June 21\n",
    "        \n",
    "       \n",
    "        r\"(\\d{1,2})/(\\d{1,2})/(\\d{2})\",  # e.g., 5/6/19\n",
    "        r\"(\\d{1,2})/(\\d{1,2})/(\\d{4})\",  # e.g., 08/31/2021\n",
    "        r\"(\\d{1,2})(st|nd|rd|th)?\\s+of\\s+([A-Za-z]+)\\s*,?\\s*including\\s+(\\d{4})\",  # e.g., 25th Dec, including 2024\n",
    "        r\"(\\d{1,2})(st|nd|rd|th)?\\s+of\\s+([A-Za-z]+)\\s+every\\s+year(?:,\\s+including\\s+(\\d{4}))?\",  # e.g., 4th of July every year, including 2022\n",
    "        r\"(\\d{2})/(\\d{2})/(\\d{4})\",\n",
    "        r\"(\\d{1,2})/(\\d{1,2})/(\\d{4})\"\n",
    "\n",
    "    ]\n",
    "    \n",
    "    for pattern in patterns:\n",
    "        match = re.search(pattern, text)\n",
    "        if match:\n",
    "            try:\n",
    "                \n",
    "                if pattern == r\"(\\d{1,2})/(\\d{1,2})/(\\d{4})\":\n",
    "                    month, day, year = match.groups()\n",
    "                    month, day = month.zfill(2), day.zfill(2)\n",
    "                    return f\"{day}/{month}/{year}\"\n",
    "                \n",
    "                if pattern == r\"(\\d{1,2})(st|nd|rd|th)?\\s+of\\s+([A-Za-z]+)\\s*,?\\s*including\\s+(\\d{4})\":\n",
    "                    day, month, year = match.groups()[0], match.groups()[2], match.groups()[3]\n",
    "                    day = day.zfill(2)  \n",
    "                    month = month_name_to_number(month)  \n",
    "                    return f\"{day}/{month}/{year}\"\n",
    "                \n",
    "                if pattern == r\"(\\d{1,2})(st|nd|rd|th)?\\s+of\\s+([A-Za-z]+)\\s+every\\s+year(?:,\\s+including\\s+(\\d{4}))?\":\n",
    "                    day, month, year = match.groups()[0], match.groups()[2], match.groups()[3]\n",
    "                    day = day.zfill(2)\n",
    "                    month = month_name_to_number(month)\n",
    "                    if not year:\n",
    "                        year = datetime.now().year\n",
    "                    else:\n",
    "                        year = ensure_full_year(year)\n",
    "                    return f\"{day}/{month}/{year}\"\n",
    "                \n",
    "                \n",
    "                if len(match.groups()) == 4:  \n",
    "                    day = match.group(1) if pattern.startswith(r\"(\\d{1,2})\") else match.group(2)\n",
    "                    day = day.zfill(2)\n",
    "                    month = match.group(3) if pattern.startswith(r\"(\\d{1,2})\") else match.group(1)\n",
    "                    if month.isdigit():  \n",
    "                        month = month.zfill(2)\n",
    "                    else:  \n",
    "                        month = month_name_to_number(month)\n",
    "                    year = match.group(4) if pattern.startswith(r\"(\\d{1,2})\") else match.group(4)\n",
    "                else:  \n",
    "                    if pattern.startswith(r\"(\\d{4})\"):  \n",
    "                        year, month, day = match.group(1), match.group(2).zfill(2), match.group(3).zfill(2)\n",
    "                    else:  \n",
    "                        day, month, year = match.group(1).zfill(2), match.group(2).zfill(2), match.group(3)\n",
    "\n",
    "                \n",
    "                if year and len(year) == 2:\n",
    "                    year = ensure_full_year(year)\n",
    "                if month and len(month) == 1:\n",
    "                    month = f\"0{month}\"\n",
    "                if day and len(day) == 1:\n",
    "                    day = f\"0{day}\"\n",
    "                \n",
    "                return f\"{day}/{month}/{year}\"\n",
    "            except Exception as e:\n",
    "                print(f\"Error parsing date '{text}': {e}\")\n",
    "    \n",
    "    return None\n",
    "\n",
    "\n",
    "df['parsed_date'] = df['Input'].apply(parse_date)\n",
    "\n",
    "\n",
    "print(df)"
   ]
  },
  {
   "cell_type": "code",
   "execution_count": 6,
   "metadata": {},
   "outputs": [],
   "source": [
    "df.dropna(inplace=True)"
   ]
  },
  {
   "cell_type": "code",
   "execution_count": 7,
   "metadata": {},
   "outputs": [
    {
     "data": {
      "text/plain": [
       "Input              0\n",
       "Expected Output    0\n",
       "parsed_date        0\n",
       "dtype: int64"
      ]
     },
     "execution_count": 7,
     "metadata": {},
     "output_type": "execute_result"
    }
   ],
   "source": [
    "df.isna().sum()"
   ]
  },
  {
   "cell_type": "code",
   "execution_count": 8,
   "metadata": {},
   "outputs": [
    {
     "name": "stdout",
     "output_type": "stream",
     "text": [
      "Number of matches: 94\n",
      "Number of mismatches: 4\n"
     ]
    }
   ],
   "source": [
    "# Apply date parsing\n",
    "df['parsed_dates'] = df['Input'].apply(parse_date)\n",
    "df['matches'] = df['parsed_dates'] == df['Expected Output']\n",
    "\n",
    "# Count matches and mismatches\n",
    "num_matches = df['matches'].sum()\n",
    "num_mismatches = len(df) - num_matches\n",
    "\n",
    "# Print counts\n",
    "print(f\"Number of matches: {num_matches}\")\n",
    "print(f\"Number of mismatches: {num_mismatches}\")"
   ]
  },
  {
   "cell_type": "code",
   "execution_count": 9,
   "metadata": {},
   "outputs": [
    {
     "name": "stdout",
     "output_type": "stream",
     "text": [
      "\n",
      "Matches:\n",
      "                                                Input parsed_dates  \\\n",
      "0         The event will take place on March 5, 2023.   05/03/2023   \n",
      "2                         The deadline is 2022-12-31.   31/12/2022   \n",
      "3                      We met on 1st of January 2000.   01/01/2000   \n",
      "4   The concert is scheduled for 15th September, 2...   15/09/2021   \n",
      "5                       Let's catch up on 02.04.2022.   02/04/2022   \n",
      "..                                                ...          ...   \n",
      "95  We celebrate Independence Day on 2023-07-04, a...   04/07/2023   \n",
      "96  The final date for submission is 30th November...   30/11/2022   \n",
      "97  The annual conference is on 15th October 2023,...   15/10/2023   \n",
      "98  His birthdate, noted as 1990-05-20, is in the ...   20/05/1990   \n",
      "99  The festival will be celebrated on 12th August...   12/08/2024   \n",
      "\n",
      "   Expected Output  \n",
      "0       05/03/2023  \n",
      "2       31/12/2022  \n",
      "3       01/01/2000  \n",
      "4       15/09/2021  \n",
      "5       02/04/2022  \n",
      "..             ...  \n",
      "95      04/07/2023  \n",
      "96      30/11/2022  \n",
      "97      15/10/2023  \n",
      "98      20/05/1990  \n",
      "99      12/08/2024  \n",
      "\n",
      "[94 rows x 3 columns]\n"
     ]
    }
   ],
   "source": [
    "# Print matches and mismatches\n",
    "print(\"\\nMatches:\")\n",
    "matches_df = df[df['matches'] == True]\n",
    "print(matches_df[['Input', 'parsed_dates', 'Expected Output']])"
   ]
  },
  {
   "cell_type": "code",
   "execution_count": 10,
   "metadata": {},
   "outputs": [
    {
     "name": "stdout",
     "output_type": "stream",
     "text": [
      "\n",
      "Mismatches:\n",
      "                                                Input parsed_dates  \\\n",
      "1                      Her birthday is on 07/08/1990.   08/07/1990   \n",
      "31                      The interview is on 1/2/2022.   02/01/2022   \n",
      "52  Her birthday, which she celebrates on 07/08/19...   08/07/1990   \n",
      "81   The job interview is on 1/2/2022, don't be late.   02/01/2022   \n",
      "\n",
      "   Expected Output  \n",
      "1       07/08/1990  \n",
      "31      01/02/2022  \n",
      "52      07/08/1990  \n",
      "81      01/02/2022  \n"
     ]
    }
   ],
   "source": [
    "print(\"\\nMismatches:\")\n",
    "mismatches_df = df[df['matches'] == False]\n",
    "print(mismatches_df[['Input', 'parsed_dates', 'Expected Output']])"
   ]
  },
  {
   "cell_type": "code",
   "execution_count": null,
   "metadata": {},
   "outputs": [],
   "source": []
  }
 ],
 "metadata": {
  "kernelspec": {
   "display_name": "tf",
   "language": "python",
   "name": "python3"
  },
  "language_info": {
   "codemirror_mode": {
    "name": "ipython",
    "version": 3
   },
   "file_extension": ".py",
   "mimetype": "text/x-python",
   "name": "python",
   "nbconvert_exporter": "python",
   "pygments_lexer": "ipython3",
   "version": "3.9.19"
  }
 },
 "nbformat": 4,
 "nbformat_minor": 2
}
